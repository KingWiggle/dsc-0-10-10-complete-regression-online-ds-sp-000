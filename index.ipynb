{
 "cells": [
  {
   "cell_type": "markdown",
   "metadata": {},
   "source": [
    "# Regression Lab\n",
    "\n",
    "Now have all the necessary functions to calculate the slope, intercept, best-fit line, prediction and visualizations. In this lab you will put them all together to run a regression experiment and calculate model loss. \n",
    "\n",
    "## SWBAT\n",
    "\n",
    "* Run a complete regression analysis through code only. "
   ]
  },
  {
   "cell_type": "markdown",
   "metadata": {},
   "source": [
    "## Here are all the formulas to put everything in perspective\n",
    "\n",
    "#### Slope\n",
    "<img src=\"m.png\" width = 300>\n",
    "\n",
    "#### Intercept \n",
    "<img src=\"b.png\" width = 200>\n",
    "\n",
    "#### R-squared\n",
    "<img src=\"r2.png\" width = 400>\n",
    "\n",
    "#### Prediction\n",
    "![](pred.jpg)\n",
    "\n",
    "\n",
    "Use the functions created earlier to implement these formulas to run a regression analysis using X and Y as input variables. "
   ]
  },
  {
   "cell_type": "code",
   "execution_count": 6,
   "metadata": {},
   "outputs": [],
   "source": [
    "import numpy as np\n",
    "import matplotlib.pyplot as plt"
   ]
  },
  {
   "cell_type": "code",
   "execution_count": 7,
   "metadata": {},
   "outputs": [],
   "source": [
    "\n",
    "# Combine all the functions created so far to run a complete regression experiment. \n",
    "# Produce an output similar to the one shown below. \n",
    "\n",
    "X = np.array([1,2,3,4,5,6,7,8,9,10], dtype=np.float64)\n",
    "Y = np.array([7,7,8,9,9,10,10,11,11,12], dtype=np.float64)\n"
   ]
  },
  {
   "cell_type": "code",
   "execution_count": 8,
   "metadata": {},
   "outputs": [],
   "source": [
    "def sq_err(y1, y2):\n",
    "    total = 0\n",
    "    for i in range(len(y1)):\n",
    "        total += (y1[i]-y2[i])**2\n",
    "    return total\n"
   ]
  },
  {
   "cell_type": "code",
   "execution_count": 12,
   "metadata": {},
   "outputs": [
    {
     "name": "stdout",
     "output_type": "stream",
     "text": [
      "Basic Regression Diagnostics\n",
      "----------------------------\n",
      "Slope: 0.5575757575757568\n",
      "Y-Intercept: 6.3333333333333375\n",
      "R-Squared: 0.9715335169880626\n",
      "----------------------------\n",
      "Model: Y = 0.5575757575757568 * X + 6.3333333333333375\n"
     ]
    },
    {
     "data": {
      "image/png": "[encoded data removed]",
      "text/plain": [
       "<Figure size 432x288 with 1 Axes>"
      ]
     },
     "metadata": {},
     "output_type": "display_data"
    }
   ],
   "source": [
    "def simpleLinearReg(xs, ys):\n",
    "    print('Basic Regression Diagnostics')\n",
    "    print('----------------------------')\n",
    "    \n",
    "    slope = (np.mean(xs)*np.mean(ys) - np.mean(xs*ys))/(np.mean(xs)**2 - np.mean(xs**2))\n",
    "    print('Slope:', slope)\n",
    "    \n",
    "    yint = np.mean(ys) - slope*np.mean(xs)\n",
    "    print('Y-Intercept:', yint)\n",
    "    \n",
    "    yhat = slope*xs + yint\n",
    "    ybar = [np.mean(ys)]*len(ys)\n",
    "    sse = sq_err(ys,yhat)\n",
    "    sst = sq_err(ys,ybar)\n",
    "    r2 = 1 - (sse/sst)\n",
    "    print('R-Squared:', r2)\n",
    "    \n",
    "    print('----------------------------')\n",
    "    print('Model: Y =', slope, '* X +', yint)\n",
    "\n",
    "    plt.style.use('ggplot')\n",
    "    plt.scatter(xs, ys, label = 'data', color = 'b')\n",
    "    plt.plot(xs, yhat, label = 'regression line', color = 'r')\n",
    "    plt.legend()\n",
    "    \n",
    "    return (slope, yint)\n",
    "    \n",
    "m,b = simpleLinearReg(X,Y)"
   ]
  },
  {
   "cell_type": "markdown",
   "metadata": {},
   "source": [
    "## Make Predictions\n",
    "\n",
    "Predict and plot the value of y using regression line above for a new value of x = 4.5."
   ]
  },
  {
   "cell_type": "code",
   "execution_count": 15,
   "metadata": {},
   "outputs": [
    {
     "name": "stdout",
     "output_type": "stream",
     "text": [
      "Basic Regression Diagnostics\n",
      "----------------------------\n",
      "Slope: 0.5575757575757568\n",
      "Y-Intercept: 6.3333333333333375\n",
      "R-Squared: 0.9715335169880626\n",
      "----------------------------\n",
      "Model: Y = 0.5575757575757568 * X + 6.3333333333333375\n"
     ]
    },
    {
     "data": {
      "text/plain": [
       "(0.5575757575757568, 6.3333333333333375)"
      ]
     },
     "execution_count": 15,
     "metadata": {},
     "output_type": "execute_result"
    },
    {
     "data": {
      "image/png": "[encoded data removed]",
      "text/plain": [
       "<Figure size 432x288 with 1 Axes>"
      ]
     },
     "metadata": {},
     "output_type": "display_data"
    }
   ],
   "source": [
    "# Make prediction using given value and visualize on the scatter plot\n",
    "ypred = m*4.5 + b\n",
    "plt.scatter(4.5,ypred, color = 'y', label = 'Prediction')\n",
    "simpleLinearReg(X,Y)\n"
   ]
  },
  {
   "cell_type": "markdown",
   "metadata": {},
   "source": [
    "## Level up - Optional \n",
    "Load the \"heightWeight.csv\" dataset. Use the height as an independant and weight as a dependant variable and draw a regression line to data using your code above. Calculate your R-square for the model and try to predict new values of Y. "
   ]
  },
  {
   "cell_type": "markdown",
   "metadata": {},
   "source": [
    "## Summary\n",
    "\n",
    "In this lab, we ran a complete simple regression analysis experiment using functions created so far. Next We shall see how we can use python's built in modules to perform such analyses with a much higher level of sophistication. "
   ]
  },
  {
   "cell_type": "code",
   "execution_count": null,
   "metadata": {},
   "outputs": [],
   "source": []
  }
 ],
 "metadata": {
  "kernelspec": {
   "display_name": "Python 3",
   "language": "python",
   "name": "python3"
  },
  "language_info": {
   "codemirror_mode": {
    "name": "ipython",
    "version": 3
   },
   "file_extension": ".py",
   "mimetype": "text/x-python",
   "name": "python",
   "nbconvert_exporter": "python",
   "pygments_lexer": "ipython3",
   "version": "3.6.6"
  }
 },
 "nbformat": 4,
 "nbformat_minor": 2
}
